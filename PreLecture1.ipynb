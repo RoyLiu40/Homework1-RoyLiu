{
 "cells": [
  {
   "cell_type": "code",
   "execution_count": 2,
   "id": "052255cb",
   "metadata": {},
   "outputs": [
    {
     "name": "stdout",
     "output_type": "stream",
     "text": [
      "Number of missing values in each column:\n",
      "survived         0\n",
      "pclass           0\n",
      "sex              0\n",
      "age            177\n",
      "sibsp            0\n",
      "parch            0\n",
      "fare             0\n",
      "embarked         2\n",
      "class            0\n",
      "who              0\n",
      "adult_male       0\n",
      "deck           688\n",
      "embark_town      2\n",
      "alive            0\n",
      "alone            0\n",
      "dtype: int64\n"
     ]
    }
   ],
   "source": [
    "import pandas as pd\n",
    "\n",
    "# Load the dataset\n",
    "url = 'https://raw.githubusercontent.com/mwaskom/seaborn-data/master/titanic.csv'\n",
    "data = pd.read_csv(url)\n",
    "\n",
    "# Display the number of missing values for each column\n",
    "missing_values = data.isnull().sum()\n",
    "\n",
    "print(\"Number of missing values in each column:\")\n",
    "print(missing_values)\n"
   ]
  },
  {
   "cell_type": "code",
   "execution_count": 3,
   "id": "edecef71",
   "metadata": {},
   "outputs": [
    {
     "name": "stdout",
     "output_type": "stream",
     "text": [
      "The DataFrame has 891 rows and 15 columns.\n"
     ]
    }
   ],
   "source": [
    "import pandas as pd\n",
    "\n",
    "# Load the CSV file into a DataFrame\n",
    "url = 'https://raw.githubusercontent.com/mwaskom/seaborn-data/master/titanic.csv'\n",
    "df = pd.read_csv(url)\n",
    "\n",
    "# Get the number of rows and columns\n",
    "rows, columns = df.shape\n",
    "\n",
    "print(f\"The DataFrame has {rows} rows and {columns} columns.\")\n"
   ]
  },
  {
   "cell_type": "markdown",
   "id": "5e303d98",
   "metadata": {},
   "source": [
    "An observation is a single record of data which in the context of my dataset represents a single passenger on the titanic, and usually represents a row of data in a spreadsheet.\n",
    "Variables represent different stats and numbers for a single observation. For example a passenger can have multiple variables, such as age, sex, survived, and etc. "
   ]
  },
  {
   "cell_type": "code",
   "execution_count": 4,
   "id": "57e31b3f",
   "metadata": {},
   "outputs": [
    {
     "name": "stdout",
     "output_type": "stream",
     "text": [
      "         survived      pclass         age       sibsp       parch        fare\n",
      "count  891.000000  891.000000  714.000000  891.000000  891.000000  891.000000\n",
      "mean     0.383838    2.308642   29.699118    0.523008    0.381594   32.204208\n",
      "std      0.486592    0.836071   14.526497    1.102743    0.806057   49.693429\n",
      "min      0.000000    1.000000    0.420000    0.000000    0.000000    0.000000\n",
      "25%      0.000000    2.000000   20.125000    0.000000    0.000000    7.910400\n",
      "50%      0.000000    3.000000   28.000000    0.000000    0.000000   14.454200\n",
      "75%      1.000000    3.000000   38.000000    1.000000    0.000000   31.000000\n",
      "max      1.000000    3.000000   80.000000    8.000000    6.000000  512.329200\n"
     ]
    }
   ],
   "source": [
    "import pandas as pd\n",
    "\n",
    "# Load the CSV file into a DataFrame\n",
    "url = 'https://raw.githubusercontent.com/mwaskom/seaborn-data/master/titanic.csv'\n",
    "df = pd.read_csv(url)\n",
    "\n",
    "# Summary statistics for numerical columns\n",
    "summary_statistics = df.describe()\n",
    "print(summary_statistics)"
   ]
  },
  {
   "cell_type": "code",
   "execution_count": 5,
   "id": "5fd4f013",
   "metadata": {},
   "outputs": [
    {
     "name": "stdout",
     "output_type": "stream",
     "text": [
      "class\n",
      "Third     491\n",
      "First     216\n",
      "Second    184\n",
      "Name: count, dtype: int64\n"
     ]
    }
   ],
   "source": [
    "# Summary for a specific categorical column\n",
    "categorical_summary = df['class'].value_counts()\n",
    "print(categorical_summary)\n"
   ]
  },
  {
   "cell_type": "code",
   "execution_count": 7,
   "id": "9c5389c2",
   "metadata": {},
   "outputs": [
    {
     "name": "stdout",
     "output_type": "stream",
     "text": [
      "(891, 15)\n"
     ]
    }
   ],
   "source": [
    "summary_stats = df.shape\n",
    "print(summary_stats)"
   ]
  },
  {
   "cell_type": "markdown",
   "id": "ea0b8701",
   "metadata": {},
   "source": [
    "The discrepancies between df.shape and df.describe() stem from the fact that shape is an attribute that reports the total row and column size of the dataset, so basically the dimensions of the total dataset, where as describe() gives a detailed numerical analysis of every numerical column. The difference between the columns reported by the two methods is caused by the fact that describe() does not report columns of non-numerical data since you cannot perform numerical analysis on strings."
   ]
  },
  {
   "cell_type": "markdown",
   "id": "359f6632",
   "metadata": {},
   "source": [
    "The reason describe() must include brackets at the end in order to invoke the method is because it is a method of the pandas DataFrame Object, and methods perform functions that require () to call the method and perform its actions, whereas shape is not a method and does not perform actions. Instead it accesses stored values for you that do not require any extra processing."
   ]
  },
  {
   "cell_type": "markdown",
   "id": "2de881df",
   "metadata": {},
   "source": [
    "Summary of Interaction\n",
    "\n",
    "During the interaction, we discussed various aspects of analyzing a pandas DataFrame using a CSV file containing Titanic data. The conversation covered the following key points:\n",
    "\n",
    "Determining DataFrame Dimensions:\n",
    "\n",
    "To find the number of rows and columns in a DataFrame, the shape attribute is used. This attribute provides the dimensions in the form of a tuple (number_of_rows, number_of_columns).\n",
    "Observations and Variables:\n",
    "\n",
    "Observations: Refers to individual records or rows in the dataset (e.g., each passenger on the Titanic).\n",
    "Variables: Refers to the columns in the dataset, which represent different attributes or features recorded (e.g., age, sex, fare).\n",
    "Providing Simple Summaries of Columns:\n",
    "\n",
    "Numerical Columns: Use df.describe() to get summary statistics including mean, standard deviation, min, max, and percentiles.\n",
    "Categorical Columns: Use value_counts() to see the distribution of unique values or df.describe(include=['object']) to get descriptive statistics for categorical data.\n",
    "General Info: Use df.info() to get an overview of the DataFrame, including data types and non-null counts.\n",
    "Missing Values: Use df.isnull().sum() to check for missing values in each column.\n",
    "First Few Rows: Use df.head() to view the first few rows of the DataFrame.\n",
    "Discrepancy Between Methods:\n",
    "\n",
    "df.shape: An attribute that provides the number of rows and columns without parentheses.\n",
    "df.describe(): A method that requires parentheses to generate summary statistics of numerical columns by default."
   ]
  },
  {
   "cell_type": "markdown",
   "id": "7d726ca7",
   "metadata": {},
   "source": [
    "https://chatgpt.com/share/3b984a99-a0f2-4713-beab-9afbdebe086b link to conversation"
   ]
  }
 ],
 "metadata": {
  "kernelspec": {
   "display_name": "Python 3 (ipykernel)",
   "language": "python",
   "name": "python3"
  },
  "language_info": {
   "codemirror_mode": {
    "name": "ipython",
    "version": 3
   },
   "file_extension": ".py",
   "mimetype": "text/x-python",
   "name": "python",
   "nbconvert_exporter": "python",
   "pygments_lexer": "ipython3",
   "version": "3.11.6"
  }
 },
 "nbformat": 4,
 "nbformat_minor": 5
}
